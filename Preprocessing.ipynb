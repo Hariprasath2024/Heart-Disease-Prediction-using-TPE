{
 "cells": [
  {
   "cell_type": "code",
   "execution_count": null,
   "id": "1325dc03-b8e8-4648-bf6a-0d0bec71318d",
   "metadata": {},
   "outputs": [],
   "source": [
    "from tensorflow.keras.preprocessing.image import ImageDataGenerator\n",
    "import os\n",
    "import optuna\n",
    "from tensorflow.keras import layers, models, optimizers\n",
    "from tensorflow.keras.callbacks import EarlyStopping\n",
    "from sklearn.metrics import classification_report\n",
    "\n",
    "datagen = ImageDataGenerator(\n",
    "    rescale=1./255,\n",
    "    rotation_range=20,\n",
    "    width_shift_range=0.2,\n",
    "    height_shift_range=0.2,\n",
    "    shear_range=0.2,\n",
    "    zoom_range=0.2,\n",
    "    horizontal_flip=True,\n",
    "    fill_mode='nearest',\n",
    "    validation_split=0.2\n",
    ")\n",
    "\n",
    "\n",
    "val_ds = datagen.flow_from_directory(\n",
    "    r\"C:\\Users\\HARI\\Downloads\\train\\train\", \n",
    "    target_size=(48,48), \n",
    "    batch_size=32,\n",
    "    class_mode='categorical')\n",
    "class_indices = train_ds.class_indices\n",
    "class_names = list(class_indices.keys())\n",
    "print(class_names)\n",
    "\n",
    "data_path = r\"C:\\Users\\HARI\\Downloads\\train\\train\" \n",
    "\n",
    "\n",
    "train_ds = datagen.flow_from_directory(\n",
    "    data_path,\n",
    "    target_size=(48, 48),  \n",
    "    batch_size=32, \n",
    "    class_mode='categorical',\n",
    "    subset='training'\n",
    ")\n",
    "\n",
    "\n",
    "val_ds = datagen.flow_from_directory(\n",
    "    data_path,\n",
    "    target_size=(48, 48),\n",
    "    batch_size=32,\n",
    "    class_mode='categorical',\n",
    "    subset='validation'\n",
    ")\n"
   ]
  }
 ],
 "metadata": {
  "kernelspec": {
   "display_name": "Python 3 (ipykernel)",
   "language": "python",
   "name": "python3"
  },
  "language_info": {
   "codemirror_mode": {
    "name": "ipython",
    "version": 3
   },
   "file_extension": ".py",
   "mimetype": "text/x-python",
   "name": "python",
   "nbconvert_exporter": "python",
   "pygments_lexer": "ipython3",
   "version": "3.12.2"
  }
 },
 "nbformat": 4,
 "nbformat_minor": 5
}
